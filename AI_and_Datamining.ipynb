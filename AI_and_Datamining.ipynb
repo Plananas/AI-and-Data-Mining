{
  "nbformat": 4,
  "nbformat_minor": 0,
  "metadata": {
    "colab": {
      "provenance": [],
      "authorship_tag": "ABX9TyNMcxt6ybnxAZOkLuDaflpY",
      "include_colab_link": true
    },
    "kernelspec": {
      "name": "python3",
      "display_name": "Python 3"
    },
    "language_info": {
      "name": "python"
    }
  },
  "cells": [
    {
      "cell_type": "markdown",
      "metadata": {
        "id": "view-in-github",
        "colab_type": "text"
      },
      "source": [
        "<a href=\"https://colab.research.google.com/github/Plananas/AI-and-Data-Mining/blob/main/AI_and_Datamining.ipynb\" target=\"_parent\"><img src=\"https://colab.research.google.com/assets/colab-badge.svg\" alt=\"Open In Colab\"/></a>"
      ]
    },
    {
      "cell_type": "markdown",
      "source": [
        "Link to the data source: https://www.kaggle.com/datasets/carogonzalezgaltier/medical-appointment-scheduling-system"
      ],
      "metadata": {
        "id": "BSZB3UG3KCHF"
      }
    },
    {
      "cell_type": "markdown",
      "source": [
        "This program will be using the supplied data to reduce the wait times of patients."
      ],
      "metadata": {
        "id": "i8Gu1xLvSxXN"
      }
    },
    {
      "cell_type": "markdown",
      "source": [],
      "metadata": {
        "id": "I83T0wuIKALN"
      }
    },
    {
      "cell_type": "code",
      "source": [
        "import pandas as pd"
      ],
      "metadata": {
        "id": "bHad4-HOKBaW"
      },
      "execution_count": null,
      "outputs": []
    },
    {
      "cell_type": "code",
      "source": [
        "import os\n",
        "cwd = os.getcwd()\n",
        "print(cwd)"
      ],
      "metadata": {
        "id": "eeH0hkHfS54L",
        "outputId": "5c4c4b87-2f8b-4962-caba-3674dc0f5f4a",
        "colab": {
          "base_uri": "https://localhost:8080/"
        }
      },
      "execution_count": null,
      "outputs": [
        {
          "output_type": "stream",
          "name": "stdout",
          "text": [
            "/content\n"
          ]
        }
      ]
    }
  ]
}